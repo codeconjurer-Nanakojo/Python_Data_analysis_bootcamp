{
 "cells": [
  {
   "cell_type": "code",
   "execution_count": null,
   "id": "initial_id",
   "metadata": {
    "collapsed": true
   },
   "outputs": [],
   "source": [
    ""
   ]
  },
  {
   "metadata": {},
   "cell_type": "markdown",
   "source": [
    "## LOGIC STATEMENT\n",
    "this kind of statement ends in true or false\n",
    "we make use of the signs ==, <, >, <=,>="
   ],
   "id": "2baecaf5cc2e924c"
  },
  {
   "metadata": {
    "ExecuteTime": {
     "end_time": "2025-09-13T21:59:12.797529Z",
     "start_time": "2025-09-13T21:59:12.785404Z"
    }
   },
   "cell_type": "code",
   "source": [
    "a=42\n",
    "b=47\n",
    "c=27\n",
    "d=22"
   ],
   "id": "4054d41239f9c908",
   "outputs": [],
   "execution_count": 2
  },
  {
   "metadata": {
    "ExecuteTime": {
     "end_time": "2025-09-13T21:59:30.439542Z",
     "start_time": "2025-09-13T21:59:30.432342Z"
    }
   },
   "cell_type": "code",
   "source": "response =a>b",
   "id": "8ea570da21420720",
   "outputs": [],
   "execution_count": 4
  },
  {
   "metadata": {
    "ExecuteTime": {
     "end_time": "2025-09-13T21:59:41.674185Z",
     "start_time": "2025-09-13T21:59:41.659247Z"
    }
   },
   "cell_type": "code",
   "source": "print(response)",
   "id": "96179319634189a0",
   "outputs": [
    {
     "name": "stdout",
     "output_type": "stream",
     "text": [
      "False\n"
     ]
    }
   ],
   "execution_count": 5
  },
  {
   "metadata": {
    "ExecuteTime": {
     "end_time": "2025-09-13T22:16:13.675630Z",
     "start_time": "2025-09-13T22:16:13.618005Z"
    }
   },
   "cell_type": "code",
   "source": "a<b",
   "id": "bebfb3ba96a5632",
   "outputs": [
    {
     "data": {
      "text/plain": [
       "True"
      ]
     },
     "execution_count": 6,
     "metadata": {},
     "output_type": "execute_result"
    }
   ],
   "execution_count": 6
  },
  {
   "metadata": {
    "ExecuteTime": {
     "end_time": "2025-09-13T22:16:29.195766Z",
     "start_time": "2025-09-13T22:16:29.190107Z"
    }
   },
   "cell_type": "code",
   "source": "a=b\n",
   "id": "7a76418f9757eba8",
   "outputs": [],
   "execution_count": 7
  },
  {
   "metadata": {
    "ExecuteTime": {
     "end_time": "2025-09-13T22:18:33.347650Z",
     "start_time": "2025-09-13T22:18:33.321837Z"
    }
   },
   "cell_type": "code",
   "source": "a==b",
   "id": "af8a4758f2fac247",
   "outputs": [
    {
     "data": {
      "text/plain": [
       "True"
      ]
     },
     "execution_count": 9,
     "metadata": {},
     "output_type": "execute_result"
    }
   ],
   "execution_count": 9
  },
  {
   "metadata": {},
   "cell_type": "markdown",
   "source": [
    "\n",
    "## CONDITIONAL STATEMENT\n",
    "this kind of statement performs task if the condition is met\n",
    "we make use of the if , ifelse and else statement\n"
   ],
   "id": "a568baf4f417a4a9"
  }
 ],
 "metadata": {
  "kernelspec": {
   "display_name": "Python 3",
   "language": "python",
   "name": "python3"
  },
  "language_info": {
   "codemirror_mode": {
    "name": "ipython",
    "version": 2
   },
   "file_extension": ".py",
   "mimetype": "text/x-python",
   "name": "python",
   "nbconvert_exporter": "python",
   "pygments_lexer": "ipython2",
   "version": "2.7.6"
  }
 },
 "nbformat": 4,
 "nbformat_minor": 5
}
